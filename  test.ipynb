{
 "cells": [
  {
   "cell_type": "code",
   "execution_count": null,
   "id": "dea80bae",
   "metadata": {},
   "outputs": [],
   "source": [
    "import panda"
   ]
  }
 ],
 "metadata": {
  "kernelspec": {
   "display_name": "comp647_env",
   "language": "python",
   "name": "python3"
  },
  "language_info": {
   "name": "python",
   "version": "3.12.11"
  }
 },
 "nbformat": 4,
 "nbformat_minor": 5
}
