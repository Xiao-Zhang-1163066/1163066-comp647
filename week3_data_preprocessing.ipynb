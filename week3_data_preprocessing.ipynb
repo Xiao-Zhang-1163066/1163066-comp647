{
 "cells": [
  {
   "cell_type": "code",
   "execution_count": 1,
   "id": "4cf45a34",
   "metadata": {},
   "outputs": [],
   "source": [
    "import pandas as pd\n",
    "import numpy as np\n",
    "import matplotlib.pyplot as plt\n",
    "import seaborn as sns\n",
    "from scipy import stats as stats\n",
    "\n",
    "pd.set_option('display.max_columns', None)  # display all columns\n",
    "pd.set_option('display.max_rows', None)     # display all rows\n",
    "\n",
    "# 1. Load the dataset\n",
    "df = pd.read_csv('data/NZ airfares.csv')"
   ]
  },
  {
   "cell_type": "code",
   "execution_count": 6,
   "id": "dea80bae",
   "metadata": {},
   "outputs": [
    {
     "data": {
      "text/html": [
       "<div>\n",
       "<style scoped>\n",
       "    .dataframe tbody tr th:only-of-type {\n",
       "        vertical-align: middle;\n",
       "    }\n",
       "\n",
       "    .dataframe tbody tr th {\n",
       "        vertical-align: top;\n",
       "    }\n",
       "\n",
       "    .dataframe thead th {\n",
       "        text-align: right;\n",
       "    }\n",
       "</style>\n",
       "<table border=\"1\" class=\"dataframe\">\n",
       "  <thead>\n",
       "    <tr style=\"text-align: right;\">\n",
       "      <th></th>\n",
       "      <th>Travel Date</th>\n",
       "      <th>Dep. airport</th>\n",
       "      <th>Dep. time</th>\n",
       "      <th>Arr. airport</th>\n",
       "      <th>Arr. time</th>\n",
       "      <th>Duration</th>\n",
       "      <th>Direct</th>\n",
       "      <th>Transit</th>\n",
       "      <th>Baggage</th>\n",
       "      <th>Airline</th>\n",
       "      <th>Airfare(NZ$)</th>\n",
       "    </tr>\n",
       "  </thead>\n",
       "  <tbody>\n",
       "    <tr>\n",
       "      <th>0</th>\n",
       "      <td>19/09/2019</td>\n",
       "      <td>AKL</td>\n",
       "      <td>1:35 PM</td>\n",
       "      <td>CHC</td>\n",
       "      <td>3:00 PM</td>\n",
       "      <td>1h 25m</td>\n",
       "      <td>(Direct)</td>\n",
       "      <td>NaN</td>\n",
       "      <td>NaN</td>\n",
       "      <td>Jetstar</td>\n",
       "      <td>111</td>\n",
       "    </tr>\n",
       "    <tr>\n",
       "      <th>1</th>\n",
       "      <td>19/09/2019</td>\n",
       "      <td>AKL</td>\n",
       "      <td>3:55 PM</td>\n",
       "      <td>CHC</td>\n",
       "      <td>5:20 PM</td>\n",
       "      <td>1h 25m</td>\n",
       "      <td>(Direct)</td>\n",
       "      <td>NaN</td>\n",
       "      <td>NaN</td>\n",
       "      <td>Jetstar</td>\n",
       "      <td>111</td>\n",
       "    </tr>\n",
       "    <tr>\n",
       "      <th>2</th>\n",
       "      <td>19/09/2019</td>\n",
       "      <td>AKL</td>\n",
       "      <td>11:40 AM</td>\n",
       "      <td>CHC</td>\n",
       "      <td>1:05 PM</td>\n",
       "      <td>1h 25m</td>\n",
       "      <td>(Direct)</td>\n",
       "      <td>NaN</td>\n",
       "      <td>NaN</td>\n",
       "      <td>Jetstar</td>\n",
       "      <td>132</td>\n",
       "    </tr>\n",
       "    <tr>\n",
       "      <th>3</th>\n",
       "      <td>19/09/2019</td>\n",
       "      <td>AKL</td>\n",
       "      <td>8:00 PM</td>\n",
       "      <td>CHC</td>\n",
       "      <td>9:25 PM</td>\n",
       "      <td>1h 25m</td>\n",
       "      <td>(Direct)</td>\n",
       "      <td>NaN</td>\n",
       "      <td>NaN</td>\n",
       "      <td>Jetstar</td>\n",
       "      <td>132</td>\n",
       "    </tr>\n",
       "    <tr>\n",
       "      <th>4</th>\n",
       "      <td>19/09/2019</td>\n",
       "      <td>AKL</td>\n",
       "      <td>9:00 AM</td>\n",
       "      <td>CHC</td>\n",
       "      <td>10:25 AM</td>\n",
       "      <td>1h 25m</td>\n",
       "      <td>(Direct)</td>\n",
       "      <td>NaN</td>\n",
       "      <td>NaN</td>\n",
       "      <td>Air New Zealand</td>\n",
       "      <td>133</td>\n",
       "    </tr>\n",
       "  </tbody>\n",
       "</table>\n",
       "</div>"
      ],
      "text/plain": [
       "  Travel Date Dep. airport Dep. time Arr. airport Arr. time Duration  \\\n",
       "0  19/09/2019          AKL   1:35 PM          CHC   3:00 PM   1h 25m   \n",
       "1  19/09/2019          AKL   3:55 PM          CHC   5:20 PM   1h 25m   \n",
       "2  19/09/2019          AKL  11:40 AM          CHC   1:05 PM   1h 25m   \n",
       "3  19/09/2019          AKL   8:00 PM          CHC   9:25 PM   1h 25m   \n",
       "4  19/09/2019          AKL   9:00 AM          CHC  10:25 AM   1h 25m   \n",
       "\n",
       "     Direct Transit Baggage          Airline  Airfare(NZ$)  \n",
       "0  (Direct)     NaN     NaN          Jetstar           111  \n",
       "1  (Direct)     NaN     NaN          Jetstar           111  \n",
       "2  (Direct)     NaN     NaN          Jetstar           132  \n",
       "3  (Direct)     NaN     NaN          Jetstar           132  \n",
       "4  (Direct)     NaN     NaN  Air New Zealand           133  "
      ]
     },
     "execution_count": 6,
     "metadata": {},
     "output_type": "execute_result"
    }
   ],
   "source": [
    "df.head()  # Display the first 5 rows of the dataset"
   ]
  },
  {
   "cell_type": "code",
   "execution_count": 7,
   "id": "a70ce081",
   "metadata": {},
   "outputs": [
    {
     "data": {
      "text/plain": [
       "(162833, 11)"
      ]
     },
     "execution_count": 7,
     "metadata": {},
     "output_type": "execute_result"
    }
   ],
   "source": [
    "df.shape  # Display the shape of the dataset"
   ]
  },
  {
   "cell_type": "code",
   "execution_count": 4,
   "id": "1137bf30",
   "metadata": {},
   "outputs": [
    {
     "name": "stdout",
     "output_type": "stream",
     "text": [
      "<class 'pandas.core.frame.DataFrame'>\n",
      "RangeIndex: 162833 entries, 0 to 162832\n",
      "Data columns (total 11 columns):\n",
      " #   Column        Non-Null Count   Dtype \n",
      "---  ------        --------------   ----- \n",
      " 0   Travel Date   162833 non-null  object\n",
      " 1   Dep. airport  162809 non-null  object\n",
      " 2   Dep. time     162833 non-null  object\n",
      " 3   Arr. airport  162809 non-null  object\n",
      " 4   Arr. time     162828 non-null  object\n",
      " 5   Duration      162833 non-null  object\n",
      " 6   Direct        162833 non-null  object\n",
      " 7   Transit       123077 non-null  object\n",
      " 8   Baggage       2311 non-null    object\n",
      " 9   Airline       162828 non-null  object\n",
      " 10  Airfare(NZ$)  162833 non-null  int64 \n",
      "dtypes: int64(1), object(10)\n",
      "memory usage: 13.7+ MB\n"
     ]
    }
   ],
   "source": [
    "df.info()  # Display basic information about the dataset"
   ]
  },
  {
   "cell_type": "code",
   "execution_count": 5,
   "id": "5288a997",
   "metadata": {},
   "outputs": [
    {
     "data": {
      "text/html": [
       "<div>\n",
       "<style scoped>\n",
       "    .dataframe tbody tr th:only-of-type {\n",
       "        vertical-align: middle;\n",
       "    }\n",
       "\n",
       "    .dataframe tbody tr th {\n",
       "        vertical-align: top;\n",
       "    }\n",
       "\n",
       "    .dataframe thead th {\n",
       "        text-align: right;\n",
       "    }\n",
       "</style>\n",
       "<table border=\"1\" class=\"dataframe\">\n",
       "  <thead>\n",
       "    <tr style=\"text-align: right;\">\n",
       "      <th></th>\n",
       "      <th>count</th>\n",
       "      <th>mean</th>\n",
       "      <th>std</th>\n",
       "      <th>min</th>\n",
       "      <th>25%</th>\n",
       "      <th>50%</th>\n",
       "      <th>75%</th>\n",
       "      <th>max</th>\n",
       "    </tr>\n",
       "  </thead>\n",
       "  <tbody>\n",
       "    <tr>\n",
       "      <th>Airfare(NZ$)</th>\n",
       "      <td>162833.0</td>\n",
       "      <td>411.031769</td>\n",
       "      <td>168.958742</td>\n",
       "      <td>32.0</td>\n",
       "      <td>293.0</td>\n",
       "      <td>392.0</td>\n",
       "      <td>512.0</td>\n",
       "      <td>1364.0</td>\n",
       "    </tr>\n",
       "  </tbody>\n",
       "</table>\n",
       "</div>"
      ],
      "text/plain": [
       "                 count        mean         std   min    25%    50%    75%  \\\n",
       "Airfare(NZ$)  162833.0  411.031769  168.958742  32.0  293.0  392.0  512.0   \n",
       "\n",
       "                 max  \n",
       "Airfare(NZ$)  1364.0  "
      ]
     },
     "execution_count": 5,
     "metadata": {},
     "output_type": "execute_result"
    }
   ],
   "source": [
    "df.describe().transpose()  # Display summary statistics of the dataset"
   ]
  },
  {
   "cell_type": "code",
   "execution_count": 13,
   "id": "77e907ff",
   "metadata": {},
   "outputs": [
    {
     "data": {
      "text/plain": [
       "Index(['Travel Date', 'Dep. airport', 'Dep. time', 'Arr. airport', 'Arr. time',\n",
       "       'Duration', 'Direct', 'Transit', 'Baggage', 'Airline', 'Airfare(NZ$)'],\n",
       "      dtype='object')"
      ]
     },
     "execution_count": 13,
     "metadata": {},
     "output_type": "execute_result"
    }
   ],
   "source": [
    "df.columns  # Display the columns in the dataset"
   ]
  },
  {
   "cell_type": "code",
   "execution_count": 16,
   "id": "5256e688",
   "metadata": {},
   "outputs": [
    {
     "name": "stdout",
     "output_type": "stream",
     "text": [
      "Column: 'Travel Date' \n",
      "Duplicate count: 162714 \n",
      "\n",
      "Column: 'Dep. airport' \n",
      "Duplicate count: 162800 \n",
      "\n",
      "Column: 'Dep. time' \n",
      "Duplicate count: 162622 \n",
      "\n",
      "Column: 'Arr. airport' \n",
      "Duplicate count: 162795 \n",
      "\n",
      "Column: 'Arr. time' \n",
      "Duplicate count: 162615 \n",
      "\n",
      "Column: 'Duration' \n",
      "Duplicate count: 162528 \n",
      "\n",
      "Column: 'Direct' \n",
      "Duplicate count: 162800 \n",
      "\n",
      "Column: 'Transit' \n",
      "Duplicate count: 161583 \n",
      "\n",
      "Column: 'Baggage' \n",
      "Duplicate count: 162802 \n",
      "\n",
      "Column: 'Airline' \n",
      "Duplicate count: 162801 \n",
      "\n",
      "Column: 'Airfare(NZ$)' \n",
      "Duplicate count: 161937 \n",
      "\n",
      "Total duplicates in the dataset: 1841\n"
     ]
    }
   ],
   "source": [
    "# check duplicates in each column and print the count of duplicates for each column\n",
    "for column in df.columns:\n",
    "    duplicates = df[column].duplicated().sum()\n",
    "    print(f\"Column: '{column}' \")\n",
    "    print(f\"Duplicate count: {duplicates} \\n\")\n",
    "duplicates = df.duplicated().sum()\n",
    "print(f\"Total duplicates in the dataset: {duplicates}\")"
   ]
  },
  {
   "cell_type": "code",
   "execution_count": 12,
   "id": "8a82046c",
   "metadata": {},
   "outputs": [
    {
     "data": {
      "text/plain": [
       "Travel Date          0\n",
       "Dep. airport         0\n",
       "Dep. time            0\n",
       "Arr. airport         0\n",
       "Arr. time            0\n",
       "Duration             0\n",
       "Direct               0\n",
       "Transit          39744\n",
       "Baggage         160493\n",
       "Airline              0\n",
       "Airfare(NZ$)         0\n",
       "dtype: int64"
      ]
     },
     "execution_count": 12,
     "metadata": {},
     "output_type": "execute_result"
    }
   ],
   "source": [
    "df.isnull().sum()  # Check for missing values in each column"
   ]
  },
  {
   "cell_type": "code",
   "execution_count": 17,
   "id": "8963f9c5",
   "metadata": {},
   "outputs": [],
   "source": [
    "df = df.dropna(subset=['Dep. airport', 'Arr. airport', 'Arr. time', 'Airline']) # Drop rows with missing critical information"
   ]
  },
  {
   "cell_type": "code",
   "execution_count": 18,
   "id": "95ad39b3",
   "metadata": {},
   "outputs": [],
   "source": [
    "# Fill missing 'Transit' values as 'No Transit'\n",
    "df['Transit'] = df['Transit'].fillna('No Transit')"
   ]
  },
  {
   "cell_type": "code",
   "execution_count": 19,
   "id": "31e6faa0",
   "metadata": {},
   "outputs": [
    {
     "name": "stdout",
     "output_type": "stream",
     "text": [
      "Percentage of missing values in 'Baggage': 98.58%\n"
     ]
    }
   ],
   "source": [
    "# Calculate the percentage of missing values in the 'Baggage' column\n",
    "missing_baggage_pct = df['Baggage'].isnull().mean() * 100\n",
    "print(f\"Percentage of missing values in 'Baggage': {missing_baggage_pct:.2f}%\")"
   ]
  },
  {
   "cell_type": "code",
   "execution_count": 20,
   "id": "2d34ad6f",
   "metadata": {},
   "outputs": [],
   "source": [
    "# Drop 'Baggage' column due to excessive missing values\n",
    "df = df.drop(columns=['Baggage'])"
   ]
  }
 ],
 "metadata": {
  "kernelspec": {
   "display_name": "comp647_env",
   "language": "python",
   "name": "python3"
  },
  "language_info": {
   "codemirror_mode": {
    "name": "ipython",
    "version": 3
   },
   "file_extension": ".py",
   "mimetype": "text/x-python",
   "name": "python",
   "nbconvert_exporter": "python",
   "pygments_lexer": "ipython3",
   "version": "3.12.11"
  }
 },
 "nbformat": 4,
 "nbformat_minor": 5
}
